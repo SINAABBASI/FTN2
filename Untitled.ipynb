{
 "cells": [
  {
   "cell_type": "code",
   "execution_count": 2,
   "id": "b4abbdb4",
   "metadata": {},
   "outputs": [],
   "source": [
    "import pandas as pd"
   ]
  },
  {
   "cell_type": "code",
   "execution_count": 4,
   "id": "db54ea88",
   "metadata": {},
   "outputs": [
    {
     "data": {
      "text/html": [
       "<div>\n",
       "<style scoped>\n",
       "    .dataframe tbody tr th:only-of-type {\n",
       "        vertical-align: middle;\n",
       "    }\n",
       "\n",
       "    .dataframe tbody tr th {\n",
       "        vertical-align: top;\n",
       "    }\n",
       "\n",
       "    .dataframe thead th {\n",
       "        text-align: right;\n",
       "    }\n",
       "</style>\n",
       "<table border=\"1\" class=\"dataframe\">\n",
       "  <thead>\n",
       "    <tr style=\"text-align: right;\">\n",
       "      <th></th>\n",
       "      <th>id</th>\n",
       "      <th>o-4</th>\n",
       "      <th>o-3</th>\n",
       "      <th>o-2</th>\n",
       "      <th>o-1</th>\n",
       "      <th>o0</th>\n",
       "      <th>o1</th>\n",
       "      <th>o2</th>\n",
       "      <th>o3</th>\n",
       "      <th>o4</th>\n",
       "      <th>target</th>\n",
       "    </tr>\n",
       "  </thead>\n",
       "  <tbody>\n",
       "    <tr>\n",
       "      <th>0</th>\n",
       "      <td>1</td>\n",
       "      <td>1.074334</td>\n",
       "      <td>-1.069606</td>\n",
       "      <td>-1.986196</td>\n",
       "      <td>0.099544</td>\n",
       "      <td>0.380702</td>\n",
       "      <td>-0.980759</td>\n",
       "      <td>-1.426359</td>\n",
       "      <td>0.266631</td>\n",
       "      <td>-0.720343</td>\n",
       "      <td>1</td>\n",
       "    </tr>\n",
       "    <tr>\n",
       "      <th>1</th>\n",
       "      <td>2</td>\n",
       "      <td>-1.069606</td>\n",
       "      <td>-1.986196</td>\n",
       "      <td>0.099544</td>\n",
       "      <td>0.380702</td>\n",
       "      <td>-0.980759</td>\n",
       "      <td>-1.426359</td>\n",
       "      <td>0.266631</td>\n",
       "      <td>-0.720343</td>\n",
       "      <td>0.291796</td>\n",
       "      <td>0</td>\n",
       "    </tr>\n",
       "    <tr>\n",
       "      <th>2</th>\n",
       "      <td>3</td>\n",
       "      <td>-1.986196</td>\n",
       "      <td>0.099544</td>\n",
       "      <td>0.380702</td>\n",
       "      <td>-0.980759</td>\n",
       "      <td>-1.426359</td>\n",
       "      <td>0.266631</td>\n",
       "      <td>-0.720343</td>\n",
       "      <td>0.291796</td>\n",
       "      <td>0.434752</td>\n",
       "      <td>0</td>\n",
       "    </tr>\n",
       "    <tr>\n",
       "      <th>3</th>\n",
       "      <td>4</td>\n",
       "      <td>0.099544</td>\n",
       "      <td>0.380702</td>\n",
       "      <td>-0.980759</td>\n",
       "      <td>-1.426359</td>\n",
       "      <td>0.266631</td>\n",
       "      <td>-0.720343</td>\n",
       "      <td>0.291796</td>\n",
       "      <td>0.434752</td>\n",
       "      <td>-0.363020</td>\n",
       "      <td>1</td>\n",
       "    </tr>\n",
       "    <tr>\n",
       "      <th>4</th>\n",
       "      <td>5</td>\n",
       "      <td>0.380702</td>\n",
       "      <td>-0.980759</td>\n",
       "      <td>-1.426359</td>\n",
       "      <td>0.266631</td>\n",
       "      <td>-0.720343</td>\n",
       "      <td>0.291796</td>\n",
       "      <td>0.434752</td>\n",
       "      <td>-0.363020</td>\n",
       "      <td>-0.008887</td>\n",
       "      <td>0</td>\n",
       "    </tr>\n",
       "  </tbody>\n",
       "</table>\n",
       "</div>"
      ],
      "text/plain": [
       "   id       o-4       o-3       o-2       o-1        o0        o1        o2  \\\n",
       "0   1  1.074334 -1.069606 -1.986196  0.099544  0.380702 -0.980759 -1.426359   \n",
       "1   2 -1.069606 -1.986196  0.099544  0.380702 -0.980759 -1.426359  0.266631   \n",
       "2   3 -1.986196  0.099544  0.380702 -0.980759 -1.426359  0.266631 -0.720343   \n",
       "3   4  0.099544  0.380702 -0.980759 -1.426359  0.266631 -0.720343  0.291796   \n",
       "4   5  0.380702 -0.980759 -1.426359  0.266631 -0.720343  0.291796  0.434752   \n",
       "\n",
       "         o3        o4  target  \n",
       "0  0.266631 -0.720343       1  \n",
       "1 -0.720343  0.291796       0  \n",
       "2  0.291796  0.434752       0  \n",
       "3  0.434752 -0.363020       1  \n",
       "4 -0.363020 -0.008887       0  "
      ]
     },
     "execution_count": 4,
     "metadata": {},
     "output_type": "execute_result"
    }
   ],
   "source": [
    "df = pd.read_csv('./data.csv')\n",
    "df.head()"
   ]
  },
  {
   "cell_type": "code",
   "execution_count": 6,
   "id": "b5dd255a",
   "metadata": {},
   "outputs": [
    {
     "data": {
      "text/plain": [
       "count    992000.000000\n",
       "mean          0.499127\n",
       "std           0.499999\n",
       "min           0.000000\n",
       "25%           0.000000\n",
       "50%           0.000000\n",
       "75%           1.000000\n",
       "max           1.000000\n",
       "Name: target, dtype: float64"
      ]
     },
     "execution_count": 6,
     "metadata": {},
     "output_type": "execute_result"
    }
   ],
   "source": [
    "df.target.describe()"
   ]
  },
  {
   "cell_type": "code",
   "execution_count": null,
   "id": "38d89abb",
   "metadata": {},
   "outputs": [],
   "source": []
  }
 ],
 "metadata": {
  "kernelspec": {
   "display_name": "Python 3 (ipykernel)",
   "language": "python",
   "name": "python3"
  },
  "language_info": {
   "codemirror_mode": {
    "name": "ipython",
    "version": 3
   },
   "file_extension": ".py",
   "mimetype": "text/x-python",
   "name": "python",
   "nbconvert_exporter": "python",
   "pygments_lexer": "ipython3",
   "version": "3.8.10"
  }
 },
 "nbformat": 4,
 "nbformat_minor": 5
}
