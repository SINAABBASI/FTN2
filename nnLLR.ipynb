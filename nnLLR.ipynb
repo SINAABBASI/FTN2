{
 "cells": [
  {
   "cell_type": "code",
   "execution_count": 46,
   "id": "3aba387d",
   "metadata": {},
   "outputs": [
    {
     "data": {
      "text/plain": [
       "array([[ 0.84867432,  0.34356324, -0.14159457,  0.        ,  0.        ],\n",
       "       [ 0.34356324,  0.84867432,  0.34356324, -0.14159457,  0.        ],\n",
       "       [-0.14159457,  0.34356324,  0.84867432,  0.34356324, -0.14159457],\n",
       "       [ 0.        , -0.14159457,  0.34356324,  0.84867432,  0.34356324],\n",
       "       [ 0.        ,  0.        , -0.14159457,  0.34356324,  0.84867432]])"
      ]
     },
     "execution_count": 46,
     "metadata": {},
     "output_type": "execute_result"
    }
   ],
   "source": [
    "from turtle import shape\n",
    "import numpy as np\n",
    "from sklearn.neighbors import KNeighborsClassifier\n",
    "import scipy.io as spio\n",
    "from LLR import LLR\n",
    "import math\n",
    "\n",
    "n_ch = 1000\n",
    "h_ch = np.load(f'H6Length{n_ch}.npy')\n",
    "ch_len = 5\n",
    "h_sp = h_ch[ch_len//2][0:ch_len] \n",
    "\n",
    "h = np.zeros((ch_len,ch_len))\n",
    "\n",
    "for i in range(ch_len//2+1):\n",
    "    h[i][:ch_len//2 + i + 1] = h_sp[ch_len//2 - i:]\n",
    "for i in range(ch_len//2+1):\n",
    "    h[ch_len//2+i] = h[ch_len//2-i][::-1]\n",
    "h"
   ]
  },
  {
   "cell_type": "code",
   "execution_count": 76,
   "id": "8a6185ca",
   "metadata": {},
   "outputs": [],
   "source": [
    "class cluster:\n",
    "    def __init__(self,n_tran=17):\n",
    "        self.n_tran = n_tran\n",
    "        self.mid_tran = self.n_tran//2\n",
    "        self.trun_len = 5\n",
    "        self.mid_trun = self.trun_len//2\n",
    "        self.llrVal = []\n",
    "    \n",
    "    def fitModel(self,neigh=1):\n",
    "        pos = []\n",
    "        neg = []\n",
    "        # cnt = 0\n",
    "        points = set()\n",
    "        X = []\n",
    "        Y = []\n",
    "        self.s_in = []\n",
    "        for i in range(2**self.n_tran):\n",
    "            temp = 0\n",
    "            sig = []\n",
    "            for j in range(self.n_tran):\n",
    "                if (i&(2**j)) != 0:\n",
    "                    sig += [1]\n",
    "                else: \n",
    "                    sig += [-1]\n",
    "            o = []\n",
    "            Y += [sig[self.mid_tran]]\n",
    "            for j in range(self.mid_trun,self.n_tran - self.mid_trun):\n",
    "                o += [np.round(np.dot(sig[j-self.mid_trun:j+self.mid_trun+1],h_sp),4)]\n",
    "            X += [o]\n",
    "            self.s_in += [sig[self.mid_trun:self.n_tran-self.mid_trun]]\n",
    "            points.add(tuple(o)) \n",
    "            \n",
    "\n",
    "            # if sig[self.mid_tran] < 0: \n",
    "            #     neg += [o[len(o)//2]]\n",
    "            # else:\n",
    "            #     pos += [o[len(o)//2]]\n",
    "            \n",
    "\n",
    "            temp = np.round(temp,4)\n",
    "        \n",
    "\n",
    "        print(\"number of cluster points:\", len(points))\n",
    "        self.X_train = np.array(X)\n",
    "        self.Y_train = np.array(Y)\n",
    "        pos = np.unique(pos)\n",
    "        neg = np.unique(neg)\n",
    "        print(*pos)\n",
    "        # print(cnt)\n",
    "        print(\"-*******-\")\n",
    "        print(*neg)\n",
    "        self.s_in = np.array(self.s_in)\n",
    "        \n",
    "        print('cluster points shape',self.X_train.shape)\n",
    "        self.model = KNeighborsClassifier(n_neighbors=neigh,weights='distance').fit(self.X_train,self.Y_train)\n",
    "        # self.model = GaussianNB().fit(X,Y)\n",
    "        print('error in training:', sum(self.model.predict(self.X_train) != self.Y_train))\n",
    "        return self.model\n",
    "\n",
    "    def reduced_model(self):\n",
    "        \n",
    "        return\n",
    "    \n",
    "    \n",
    "\n",
    "    def testModelLLR(self,ebno,data):\n",
    "        noisePw = 1/(10**(ebno/10))\n",
    "        dim = self.n_tran - self.trun_len + 1\n",
    "        print(dim)\n",
    "        self.llrVal = []\n",
    "        for step in range(0,len(data),n_ch):\n",
    "            print(step)\n",
    "            s = 2*data[step:step+n_ch]-1\n",
    "            s = np.array(s).reshape((n_ch, 1))\n",
    "            noise = np.sqrt(noisePw/2)*np.random.standard_normal((n_ch,1))\n",
    "            r = np.dot(h_ch,s) + noise\n",
    "            X_t = np.zeros((n_ch-(dim-1),dim))\n",
    "            Y = []\n",
    "            for i in range(dim//2,n_ch-dim//2):\n",
    "                for idx,val in enumerate(r[i-dim//2:i+dim//2+1]):\n",
    "                    X_t[i-dim//2][idx] = np.round(val,4)\n",
    "                Y += [1 if s[i] > 0 else -1]\n",
    "            Y = np.array(Y)\n",
    "            # Y_t = self.model.predict(X_t)\n",
    "            \n",
    "            self.X_test = X_t\n",
    "            Y_t = self.model.kneighbors(self.X_test)\n",
    "            \n",
    "#             self.llrVal += [20.0,20.0]\n",
    "            for j in range(len(Y_t[0])):\n",
    "                candList = []\n",
    "                for idx in Y_t[1][j]:\n",
    "                    candList += [self.s_in[idx].T]\n",
    "                outputLLR = LLR(n = dim, candList = candList, noisePw=noisePw, dis=Y_t[0][j])\n",
    "                \n",
    "                if j == 0: self.llrVal += outputLLR[0][:dim//2+1]\n",
    "                elif j == len(Y_t[0]) - 1: self.llrVal += [outputLLR[0][dim//2:]]\n",
    "                else: self.llrVal += [outputLLR[dim//2]]\n",
    "                \n",
    "                print(j,len(Y_t[0]),len(self.llrVal),self.llrVal)\n",
    "            \n",
    "        return self.llrVal\n",
    "\n",
    "    def testModel(self,ebno,num_iteration):\n",
    "        noisePw = 1/(10**(ebno/10))\n",
    "        dim = self.n_tran - self.trun_len + 1\n",
    "        err = []\n",
    "        for _ in range(num_iteration):\n",
    "            print(_)\n",
    "            s = 2*np.random.randint(2,size=(n_ch,1))-1\n",
    "            noise = np.sqrt(noisePw/2)*np.random.standard_normal((n_ch,1))\n",
    "            r = np.dot(h_ch,s) + noise\n",
    "            X_t = np.zeros((n_ch-(self.n_tran-1),dim))\n",
    "            Y = []\n",
    "            for i in range(self.mid_tran,n_ch-self.mid_tran):\n",
    "                for id,val in enumerate(r[i-dim//2:i+dim//2+1]):\n",
    "                    X_t[i-self.mid_tran][id] = np.round(val,4)\n",
    "                Y += [1 if s[i] > 0 else -1]\n",
    "            Y = np.array(Y)\n",
    "            \n",
    "            Y_t = self.model.predict(X_t)\n",
    "            err += [sum(Y_t != Y)/len(Y)]\n",
    "        print(np.mean(err))\n",
    "        return np.mean(err)\n"
   ]
  },
  {
   "cell_type": "code",
   "execution_count": 117,
   "id": "c49082d3",
   "metadata": {},
   "outputs": [
    {
     "name": "stdout",
     "output_type": "stream",
     "text": [
      "10000\n"
     ]
    }
   ],
   "source": [
    "mat = spio.loadmat('./data/testData5e3_int.mat')\n",
    "dataIn = np.array(mat['intrl'],dtype=int)[0]\n",
    "print(len(dataIn))"
   ]
  },
  {
   "cell_type": "code",
   "execution_count": 83,
   "id": "e8674724",
   "metadata": {},
   "outputs": [
    {
     "data": {
      "text/plain": [
       "array([1, 0, 1, 0, 1, 0, 1, 1, 0, 1])"
      ]
     },
     "execution_count": 83,
     "metadata": {},
     "output_type": "execute_result"
    }
   ],
   "source": [
    "dataIn[:10]"
   ]
  },
  {
   "cell_type": "code",
   "execution_count": 95,
   "id": "9e823895",
   "metadata": {},
   "outputs": [
    {
     "name": "stdout",
     "output_type": "stream",
     "text": [
      "number of cluster points: 131072\n",
      "\n",
      "-*******-\n",
      "\n",
      "cluster points shape (131072, 13)\n",
      "error in training: 0\n"
     ]
    },
    {
     "data": {
      "text/plain": [
       "KNeighborsClassifier(n_neighbors=8, weights='distance')"
      ]
     },
     "execution_count": 95,
     "metadata": {},
     "output_type": "execute_result"
    }
   ],
   "source": [
    "\n",
    "sysModel = cluster()\n",
    "sysModel.fitModel(neigh=8)\n"
   ]
  },
  {
   "cell_type": "code",
   "execution_count": 118,
   "id": "11f3e313",
   "metadata": {},
   "outputs": [
    {
     "name": "stdout",
     "output_type": "stream",
     "text": [
      "snr 0.9897000433601879\n",
      "13\n",
      "0\n",
      "1000\n",
      "2000\n",
      "3000\n",
      "4000\n",
      "5000\n",
      "6000\n",
      "7000\n",
      "8000\n",
      "9000\n",
      "0.12722672064777327\n",
      "10000\n"
     ]
    }
   ],
   "source": [
    "\n",
    "ebno = 4\n",
    "codeRate = 0.5\n",
    "snr = ebno + 10*math.log10(codeRate)\n",
    "print(\"snr\",snr)\n",
    "noisePw = 1/(10**(snr/10))\n",
    "dim = sysModel.n_tran - sysModel.trun_len + 1\n",
    "print(dim)\n",
    "llrVal = []\n",
    "err = []\n",
    "for step in range(0,len(dataIn),n_ch):\n",
    "    print(step)\n",
    "    s = 2*dataIn[step:step+n_ch]-1\n",
    "    s = np.array(s).reshape((n_ch, 1))\n",
    "    noise = np.sqrt(noisePw/2)*np.random.standard_normal((n_ch,1))\n",
    "    r = np.dot(h_ch,s) + noise\n",
    "    X_t = np.zeros((n_ch-(dim-1),dim))\n",
    "    Y = []\n",
    "    for i in range(dim//2,n_ch-dim//2):\n",
    "        for idx,val in enumerate(r[i-dim//2:i+dim//2+1]):\n",
    "            X_t[i-dim//2][idx] = np.round(val,4)\n",
    "        Y += [1 if s[i] > 0 else -1]\n",
    "    Y = np.array(Y)\n",
    "    # Y_t = self.model.predict(X_t)\n",
    "\n",
    "    X_test = X_t\n",
    "    Y_t = sysModel.model.kneighbors(X_test)\n",
    "    \n",
    "    Y_tt = sysModel.model.predict(X_t)\n",
    "    err += [sum(Y_tt != Y)/len(Y)]\n",
    "    \n",
    "    \n",
    "    for j in range(len(Y_t[0])):\n",
    "        candList = []\n",
    "        for idx in Y_t[1][j]:\n",
    "            candList += [sysModel.s_in[idx].T]\n",
    "        outputLLR = LLR(n = dim, candList = candList, noisePw=noisePw, dis=Y_t[0][j])\n",
    "\n",
    "        if j == 0: llrVal += list(outputLLR[:dim//2+1])\n",
    "        elif j == len(Y_t[0]) - 1: llrVal += list(outputLLR[dim//2:])\n",
    "        else: llrVal += [outputLLR[dim//2]]\n",
    "\n",
    "print(np.mean(err))\n",
    "    \n",
    "print(len(llrVal))"
   ]
  },
  {
   "cell_type": "code",
   "execution_count": 119,
   "id": "937a3f54",
   "metadata": {},
   "outputs": [],
   "source": [
    "import csv\n",
    "fields = []\n",
    "for i in llrVal:\n",
    "    fields += [float(i)]\n",
    "with open('./data/LLRFTN2'+str(ebno)+'db.csv', mode='w') as csv_file:\n",
    "    writer = csv.writer(csv_file, delimiter='\\n', quotechar='\"', quoting=csv.QUOTE_MINIMAL)\n",
    "    writer.writerow(fields)"
   ]
  },
  {
   "cell_type": "code",
   "execution_count": null,
   "id": "8d9eb917",
   "metadata": {},
   "outputs": [],
   "source": [
    "# [ 0.1166, 0.0046, 4.0003e-06]"
   ]
  }
 ],
 "metadata": {
  "kernelspec": {
   "display_name": "Python 3 (ipykernel)",
   "language": "python",
   "name": "python3"
  },
  "language_info": {
   "codemirror_mode": {
    "name": "ipython",
    "version": 3
   },
   "file_extension": ".py",
   "mimetype": "text/x-python",
   "name": "python",
   "nbconvert_exporter": "python",
   "pygments_lexer": "ipython3",
   "version": "3.8.10"
  }
 },
 "nbformat": 4,
 "nbformat_minor": 5
}
