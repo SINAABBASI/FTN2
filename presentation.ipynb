{
 "cells": [
  {
   "cell_type": "code",
   "execution_count": 12,
   "id": "d1c9fd8d",
   "metadata": {},
   "outputs": [],
   "source": [
    "from os import sep\n",
    "from random import randrange, seed\n",
    "from turtle import shape\n",
    "import matplotlib.pyplot as plt\n",
    "import numpy as np\n",
    "from sklearn.cluster import KMeans, SpectralClustering\n",
    "from sklearn.ensemble import AdaBoostClassifier, RandomForestClassifier\n",
    "from sklearn.gaussian_process import GaussianProcessClassifier\n",
    "from sklearn.mixture import GaussianMixture\n",
    "from sklearn.neighbors import KNeighborsClassifier\n",
    "from sklearn.svm import SVC\n",
    "from sklearn.gaussian_process.kernels import RBF\n",
    "# from xgboost import XGBRegressor\n",
    "n = 1000\n",
    "h = np.load(f'H6Length{n}.npy')\n",
    "h_sp = h[2][1:4]\n"
   ]
  },
  {
   "cell_type": "code",
   "execution_count": 8,
   "id": "8a34d1a2",
   "metadata": {},
   "outputs": [],
   "source": [
    "class cluster:\n",
    "    def __init__(self,n_tran=17,trun_len = 3):\n",
    "        self.n_tran = n_tran\n",
    "        self.mid_tran = self.n_tran//2\n",
    "        self.trun_len = trun_len\n",
    "        self.mid_trun = self.trun_len//2\n",
    "    \n",
    "    def fitModel(self,neigh=1):\n",
    "        points = set()\n",
    "        X = [[]for _ in range(2**self.n_tran)]\n",
    "        Y = []\n",
    "        for i in range(2**self.n_tran):\n",
    "            temp = 0\n",
    "            co = 0\n",
    "            sig = []\n",
    "            for j in range(self.n_tran):\n",
    "                if (i&(2**j)) != 0:\n",
    "                    sig += [1]\n",
    "                else: \n",
    "                    sig += [-1]\n",
    "            o = []\n",
    "            Y += [sig[self.mid_tran]]\n",
    "            for j in range(self.mid_trun,self.n_tran - self.mid_trun):\n",
    "                o += [np.round(np.dot(sig[j-self.mid_trun:j+self.mid_trun+1],h_sp),4)]\n",
    "            X[i] = o\n",
    "            points.add(tuple(o)) \n",
    "            temp = np.round(temp,4)\n",
    "        print(\"number of cluster points:\", len(points))\n",
    "        X = np.array(X)\n",
    "        Y = np.array(Y)\n",
    "        print('cluster points shape',X.shape)\n",
    "        self.model = KNeighborsClassifier(n_neighbors=neigh).fit(X,Y)\n",
    "        print('error in training:',sum(self.model.predict(X) != Y))\n",
    "        return self.model\n",
    "    \n",
    "    def testModel(self,ebno,num_iteration):\n",
    "        noisePw = 1/(10**(ebno/10))\n",
    "        dim = self.n_tran - self.trun_len + 1\n",
    "        err = []\n",
    "        for _ in range(num_iteration):\n",
    "            s = 2*np.random.randint(2,size=(n,1))-1\n",
    "            noise = np.sqrt(noisePw/2)*np.random.standard_normal((n,1))\n",
    "            r = np.dot(h,s) + noise\n",
    "            X_t = np.zeros((n-(self.n_tran-1),dim))\n",
    "            Y = []\n",
    "            for i in range(self.mid_tran,n-self.mid_tran):\n",
    "                for id,val in enumerate(r[i-dim//2:i+dim//2+1]):\n",
    "                    X_t[i-self.mid_tran][id] = np.round(val,4)\n",
    "                Y += [1 if s[i] > 0 else -1]\n",
    "\n",
    "            Y = np.array(Y)\n",
    "            Y_t = self.model.predict(X_t)\n",
    "            err += [sum(Y_t != Y)/len(Y)]\n",
    "        print(np.mean(err))\n",
    "        return np.mean(err)"
   ]
  },
  {
   "cell_type": "code",
   "execution_count": 5,
   "id": "ffa8539b",
   "metadata": {},
   "outputs": [
    {
     "name": "stdout",
     "output_type": "stream",
     "text": [
      "number of cluster points: 6\n",
      "cluster points shape (8, 1)\n",
      "error in training: 0\n",
      "0.09771543086172345\n",
      "number of cluster points: 32\n",
      "cluster points shape (32, 3)\n",
      "error in training: 0\n",
      "0.07035140562248995\n",
      "number of cluster points: 128\n",
      "cluster points shape (128, 5)\n",
      "error in training: 0\n",
      "0.052092555331991953\n",
      "number of cluster points: 512\n",
      "cluster points shape (512, 7)\n",
      "error in training: 0\n",
      "0.0436391129032258\n",
      "number of cluster points: 2048\n",
      "cluster points shape (2048, 9)\n",
      "error in training: 0\n",
      "0.03748484848484848\n",
      "number of cluster points: 8192\n",
      "cluster points shape (8192, 11)\n",
      "error in training: 0\n",
      "0.037570850202429146\n"
     ]
    },
    {
     "data": {
      "image/png": "[encoded data removed]",
      "text/plain": [
       "<Figure size 432x288 with 1 Axes>"
      ]
     },
     "metadata": {
      "needs_background": "light"
     },
     "output_type": "display_data"
    }
   ],
   "source": [
    "# truncation length = 3\n",
    "rng = range(3,15,2)\n",
    "Y = []\n",
    "for i in rng:\n",
    "    sysModel = cluster(n_tran=i)\n",
    "    sysModel.fitModel()\n",
    "    Y += [sysModel.testModel(ebno=6,num_iteration=100)]\n",
    "\n",
    "plt.plot(rng,Y)\n",
    "plt.show()"
   ]
  },
  {
   "cell_type": "code",
   "execution_count": 14,
   "id": "8997ce0b",
   "metadata": {},
   "outputs": [
    {
     "name": "stdout",
     "output_type": "stream",
     "text": [
      "number of cluster points: 32768\n",
      "cluster points shape (32768, 13)\n",
      "error in training: 0\n",
      "0.07474645030425962\n",
      "0.03575050709939148\n",
      "0.01387423935091278\n",
      "0.004189655172413794\n"
     ]
    },
    {
     "data": {
      "image/png": "[encoded data removed]",
      "text/plain": [
       "<Figure size 432x288 with 1 Axes>"
      ]
     },
     "metadata": {
      "needs_background": "light"
     },
     "output_type": "display_data"
    }
   ],
   "source": [
    "rng = range(4,11,2)\n",
    "num_it = [10,100,100,1000]\n",
    "Y = []\n",
    "sysModel = cluster(n_tran=15,trun_len=3)\n",
    "sysModel.fitModel()\n",
    "for i,v in zip(rng,num_it):\n",
    "    Y += [sysModel.testModel(ebno=i,num_iteration=v)]\n",
    "\n",
    "uncoded6_SD = [0.0404, 0.017024793388429754, 0.002578268876611418, 0.00026040995230114736]\n",
    "plt.yscale(\"log\")\n",
    "plt.plot(rng,Y,'rx-')\n",
    "plt.plot(rng,uncoded6_SD,'bo-')\n",
    "plt.ylabel('BER')\n",
    "plt.xlabel('eb/no')\n",
    "plt.show()"
   ]
  },
  {
   "cell_type": "code",
   "execution_count": 11,
   "id": "8ec27066",
   "metadata": {},
   "outputs": [
    {
     "name": "stdout",
     "output_type": "stream",
     "text": [
      "number of cluster points: 131072\n",
      "cluster points shape (131072, 13)\n",
      "error in training: 0\n",
      "0.04522357723577236\n",
      "0.018079268292682926\n",
      "0.003739837398373984\n",
      "0.0003170731707317074\n"
     ]
    },
    {
     "data": {
      "image/png": "[encoded data removed]",
      "text/plain": [
       "<Figure size 432x288 with 1 Axes>"
      ]
     },
     "metadata": {
      "needs_background": "light"
     },
     "output_type": "display_data"
    }
   ],
   "source": [
    "rng = range(4,11,2)\n",
    "num_it = [10,100,100,1000]\n",
    "Y = []\n",
    "sysModel = cluster(trun_len=5)\n",
    "sysModel.fitModel()\n",
    "for i,v in zip(rng,num_it):\n",
    "    Y += [sysModel.testModel(ebno=i,num_iteration=v)]\n",
    "\n",
    "uncoded6_SD = [0.0404, 0.017024793388429754, 0.002578268876611418, 0.00026040995230114736]\n",
    "plt.yscale(\"log\")\n",
    "plt.plot(rng,Y,'rx-')\n",
    "plt.plot(rng,uncoded6_SD,'bo-')\n",
    "plt.ylabel('BER')\n",
    "plt.xlabel('eb/no')\n",
    "plt.show()"
   ]
  }
 ],
 "metadata": {
  "kernelspec": {
   "display_name": "Python 3 (ipykernel)",
   "language": "python",
   "name": "python3"
  },
  "language_info": {
   "codemirror_mode": {
    "name": "ipython",
    "version": 3
   },
   "file_extension": ".py",
   "mimetype": "text/x-python",
   "name": "python",
   "nbconvert_exporter": "python",
   "pygments_lexer": "ipython3",
   "version": "3.8.10"
  }
 },
 "nbformat": 4,
 "nbformat_minor": 5
}
